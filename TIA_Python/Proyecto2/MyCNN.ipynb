{
 "cells": [
  {
   "cell_type": "markdown",
   "metadata": {},
   "source": [
    "# CNN:\n",
    "\n",
    "En el presente trabajo desarrollamos una CNN para la detección de distintos rostros."
   ]
  },
  {
   "cell_type": "markdown",
   "metadata": {},
   "source": [
    "Primero importamos las librerías necesarias para este procedimiento. Esta implementación en particular utiliza python 3.7 y tensorflow 1.0."
   ]
  },
  {
   "cell_type": "code",
   "execution_count": 1,
   "metadata": {},
   "outputs": [
    {
     "name": "stderr",
     "output_type": "stream",
     "text": [
      "C:\\Users\\ASUS\\Anaconda3\\envs\\tf1_4py3_7\\lib\\site-packages\\tensorflow\\python\\framework\\dtypes.py:516: FutureWarning: Passing (type, 1) or '1type' as a synonym of type is deprecated; in a future version of numpy, it will be understood as (type, (1,)) / '(1,)type'.\n",
      "  _np_qint8 = np.dtype([(\"qint8\", np.int8, 1)])\n",
      "C:\\Users\\ASUS\\Anaconda3\\envs\\tf1_4py3_7\\lib\\site-packages\\tensorflow\\python\\framework\\dtypes.py:517: FutureWarning: Passing (type, 1) or '1type' as a synonym of type is deprecated; in a future version of numpy, it will be understood as (type, (1,)) / '(1,)type'.\n",
      "  _np_quint8 = np.dtype([(\"quint8\", np.uint8, 1)])\n",
      "C:\\Users\\ASUS\\Anaconda3\\envs\\tf1_4py3_7\\lib\\site-packages\\tensorflow\\python\\framework\\dtypes.py:518: FutureWarning: Passing (type, 1) or '1type' as a synonym of type is deprecated; in a future version of numpy, it will be understood as (type, (1,)) / '(1,)type'.\n",
      "  _np_qint16 = np.dtype([(\"qint16\", np.int16, 1)])\n",
      "C:\\Users\\ASUS\\Anaconda3\\envs\\tf1_4py3_7\\lib\\site-packages\\tensorflow\\python\\framework\\dtypes.py:519: FutureWarning: Passing (type, 1) or '1type' as a synonym of type is deprecated; in a future version of numpy, it will be understood as (type, (1,)) / '(1,)type'.\n",
      "  _np_quint16 = np.dtype([(\"quint16\", np.uint16, 1)])\n",
      "C:\\Users\\ASUS\\Anaconda3\\envs\\tf1_4py3_7\\lib\\site-packages\\tensorflow\\python\\framework\\dtypes.py:520: FutureWarning: Passing (type, 1) or '1type' as a synonym of type is deprecated; in a future version of numpy, it will be understood as (type, (1,)) / '(1,)type'.\n",
      "  _np_qint32 = np.dtype([(\"qint32\", np.int32, 1)])\n",
      "C:\\Users\\ASUS\\Anaconda3\\envs\\tf1_4py3_7\\lib\\site-packages\\tensorflow\\python\\framework\\dtypes.py:525: FutureWarning: Passing (type, 1) or '1type' as a synonym of type is deprecated; in a future version of numpy, it will be understood as (type, (1,)) / '(1,)type'.\n",
      "  np_resource = np.dtype([(\"resource\", np.ubyte, 1)])\n",
      "C:\\Users\\ASUS\\Anaconda3\\envs\\tf1_4py3_7\\lib\\site-packages\\tensorboard\\compat\\tensorflow_stub\\dtypes.py:541: FutureWarning: Passing (type, 1) or '1type' as a synonym of type is deprecated; in a future version of numpy, it will be understood as (type, (1,)) / '(1,)type'.\n",
      "  _np_qint8 = np.dtype([(\"qint8\", np.int8, 1)])\n",
      "C:\\Users\\ASUS\\Anaconda3\\envs\\tf1_4py3_7\\lib\\site-packages\\tensorboard\\compat\\tensorflow_stub\\dtypes.py:542: FutureWarning: Passing (type, 1) or '1type' as a synonym of type is deprecated; in a future version of numpy, it will be understood as (type, (1,)) / '(1,)type'.\n",
      "  _np_quint8 = np.dtype([(\"quint8\", np.uint8, 1)])\n",
      "C:\\Users\\ASUS\\Anaconda3\\envs\\tf1_4py3_7\\lib\\site-packages\\tensorboard\\compat\\tensorflow_stub\\dtypes.py:543: FutureWarning: Passing (type, 1) or '1type' as a synonym of type is deprecated; in a future version of numpy, it will be understood as (type, (1,)) / '(1,)type'.\n",
      "  _np_qint16 = np.dtype([(\"qint16\", np.int16, 1)])\n",
      "C:\\Users\\ASUS\\Anaconda3\\envs\\tf1_4py3_7\\lib\\site-packages\\tensorboard\\compat\\tensorflow_stub\\dtypes.py:544: FutureWarning: Passing (type, 1) or '1type' as a synonym of type is deprecated; in a future version of numpy, it will be understood as (type, (1,)) / '(1,)type'.\n",
      "  _np_quint16 = np.dtype([(\"quint16\", np.uint16, 1)])\n",
      "C:\\Users\\ASUS\\Anaconda3\\envs\\tf1_4py3_7\\lib\\site-packages\\tensorboard\\compat\\tensorflow_stub\\dtypes.py:545: FutureWarning: Passing (type, 1) or '1type' as a synonym of type is deprecated; in a future version of numpy, it will be understood as (type, (1,)) / '(1,)type'.\n",
      "  _np_qint32 = np.dtype([(\"qint32\", np.int32, 1)])\n",
      "C:\\Users\\ASUS\\Anaconda3\\envs\\tf1_4py3_7\\lib\\site-packages\\tensorboard\\compat\\tensorflow_stub\\dtypes.py:550: FutureWarning: Passing (type, 1) or '1type' as a synonym of type is deprecated; in a future version of numpy, it will be understood as (type, (1,)) / '(1,)type'.\n",
      "  np_resource = np.dtype([(\"resource\", np.ubyte, 1)])\n"
     ]
    },
    {
     "name": "stdout",
     "output_type": "stream",
     "text": [
      "Librerias cargadas correctamente\n"
     ]
    }
   ],
   "source": [
    "import numpy as np\n",
    "import matplotlib.pyplot as plt\n",
    "import tensorflow as tf\n",
    "tf.reset_default_graph()\n",
    "from sklearn.model_selection import train_test_split\n",
    "from random import randint\n",
    "\n",
    "print('Librerias cargadas correctamente')"
   ]
  },
  {
   "cell_type": "markdown",
   "metadata": {},
   "source": [
    "Seguidamente definimos un diccionario con las clases participantes en el experimento."
   ]
  },
  {
   "cell_type": "code",
   "execution_count": 2,
   "metadata": {},
   "outputs": [],
   "source": [
    "label_dict = {\n",
    " 0: 'Alonso',\n",
    " 1: 'Anabel',\n",
    " 2: 'Dave',\n",
    " 3: 'Elard',\n",
    " 4: 'Harry',\n",
    " 5: 'Rodrigo',\n",
    "}"
   ]
  },
  {
   "cell_type": "raw",
   "metadata": {},
   "source": [
    "Después procedemos a instanciar los parámetros generales que definen el formato de nuestras imágenes. A esta alturas dichas  imágenes y sus etiquetas ya están debidamente preprocesadas por lo que solo será necesario definir el archivo que contiene el preprocesamiento."
   ]
  },
  {
   "cell_type": "code",
   "execution_count": 3,
   "metadata": {},
   "outputs": [],
   "source": [
    "img_height = 104 # Altura y ancho de cada imagen\n",
    "img_width = 104\n",
    "\n",
    "n_class = 6 # Numero de clases participantes,\n",
    "n_examples_per_class_training = 30 # Numero de ejemplos por cada clase.\n",
    "\n",
    "image_r = \"tf_record/train_clase/img_batch.txt\" # Dirección del archivo con todas las imágenes preprocedas.\n",
    "label_r = \"tf_record/train_clase/label_batch.txt\" # Dirección del archivo con todas las etiquetas de cada imagen."
   ]
  },
  {
   "cell_type": "raw",
   "metadata": {},
   "source": [
    "Seguidamente procedemos a cargar las rutas de los archivos y redimensionar dichas variables acorde a los parámetros definidos previamente."
   ]
  },
  {
   "cell_type": "code",
   "execution_count": 4,
   "metadata": {},
   "outputs": [
    {
     "name": "stdout",
     "output_type": "stream",
     "text": [
      "Dimensiones del conjunto de imagenes:  (150, 104, 104, 1) (150, 6)\n",
      "Dimensiones del conjunto de prueba:  (20, 104, 104, 1) (20, 6)\n",
      "Dimensiones del conjunto de evaluacion:  (10, 104, 104, 1) (10, 6)\n"
     ]
    }
   ],
   "source": [
    "#Reescalando imágenes de entrenamiento y prueba, verificando tamaño de las imágenes\n",
    "train_x = np.loadtxt(image_r).reshape(n_class*n_examples_per_class_training, img_height, img_width, 1)\n",
    "train_y = np.loadtxt(label_r).reshape(n_class*n_examples_per_class_training, n_class)\n",
    "\n",
    "test_x = train_x[:20]\n",
    "test_y = train_y[:20]\n",
    "\n",
    "evaluation_x = train_x[20:30] \n",
    "evaluation_y = train_y[20:30]\n",
    "\n",
    "train_x = train_x[30:]\n",
    "train_y = train_y[30:]\n",
    "\n",
    "#train_x, train_y, test_x, test_y = train_test_split(train_x, train_y, test_size=0.2, shuffle=False)\n",
    "\n",
    "print('Dimensiones del conjunto de imagenes: ', train_x.shape, train_y.shape) \n",
    "print('Dimensiones del conjunto de prueba: ', test_x.shape, test_y.shape)\n",
    "print('Dimensiones del conjunto de evaluacion: ', evaluation_x.shape, evaluation_y.shape) "
   ]
  },
  {
   "cell_type": "raw",
   "metadata": {},
   "source": [
    "Para comprobar si las imágenes han sido correctamente cargadas procedemos a graficar una de ellas. (Específicamente la primera imagen del conjunto de entrenamiento)"
   ]
  },
  {
   "cell_type": "code",
   "execution_count": 5,
   "metadata": {},
   "outputs": [
    {
     "data": {
      "text/plain": [
       "Text(0.5, 1.0, '(Label: Harry)')"
      ]
     },
     "execution_count": 5,
     "metadata": {},
     "output_type": "execute_result"
    },
    {
     "data": {
      "image/png": "[encoded data removed]",
      "text/plain": [
       "<Figure size 504x504 with 1 Axes>"
      ]
     },
     "metadata": {
      "needs_background": "light"
     },
     "output_type": "display_data"
    }
   ],
   "source": [
    "#Mostrando la primera imagen en el conjunto de entrenamiento\n",
    "plt.figure(figsize=[7, 7])\n",
    "plt.subplot(121)\n",
    "selected_image = 19\n",
    "curr_img = np.reshape(test_x[selected_image], (104, 104))\n",
    "curr_lbl = np.argmax(test_y[selected_image,:])\n",
    "plt.imshow(curr_img, cmap='gray')\n",
    "plt.title( \"(Label: \" + str(label_dict[curr_lbl]) + \")\" )  "
   ]
  },
  {
   "cell_type": "markdown",
   "metadata": {},
   "source": [
    "# Parametros de la Red Neuronal"
   ]
  },
  {
   "cell_type": "raw",
   "metadata": {},
   "source": [
    "Finalizada la carga de imágenes, procedemos a definir los parámetros que conformaran nuestra red neuronal. En este caso, y considerando el uso de Tensorflow 1.0 es necesario tomar en cuenta su arquitectura en torno a un grafo de estados."
   ]
  },
  {
   "cell_type": "code",
   "execution_count": 6,
   "metadata": {},
   "outputs": [],
   "source": [
    "training_iter = 100 # Numero de iteracciones\n",
    "learning_rate = 0.001 # Learning rate \n",
    "batch_size = 10 # Tamaño de lote ingresante a la red. Un valor muy grande pude agotar la memoria.\n",
    "n_input = 104 "
   ]
  },
  {
   "cell_type": "raw",
   "metadata": {},
   "source": [
    "El primer paso implica definir los tf.placeholders que sostendrán las variables a lo largo de las iteracciones. A diferencias de los tf.variable y tf.constant, los tf.placeholder pueden albergar diferentes datos conforme se realiza su ejecución."
   ]
  },
  {
   "cell_type": "code",
   "execution_count": 7,
   "metadata": {},
   "outputs": [],
   "source": [
    "# Instanciando placeholders\n",
    "x = tf.placeholder(\"float\", [None, 104, 104, 1])\n",
    "y = tf.placeholder(\"float\", [None, n_class])"
   ]
  },
  {
   "cell_type": "raw",
   "metadata": {},
   "source": [
    "Seguidamente procedemos a definir las dos funciones más importante dentro de una CNN: La función de convolución y la función de max_pool.\n",
    "   \n",
    "Conv2d() tiene por propósito convolucionar a lo largo de la imagen aplicando un filtro de tamaño  ya definido y obteniendo una matriz de características que serán útiles para el aprendizaje de la CNN.\n",
    "\n",
    "Por otra parte, Maxpool2D() tiene por objetivo reducir el tamaño de la imagen una vez finalizada la convolución. "
   ]
  },
  {
   "cell_type": "code",
   "execution_count": 8,
   "metadata": {},
   "outputs": [],
   "source": [
    "# Función de Convolución \n",
    "def conv2d(x, W, b, strides=1): # x->Input, W->weights, b->bias and strides   \n",
    "    x = tf.nn.conv2d(x, W, strides=[1, strides, strides, 1], padding='SAME')\n",
    "    x = tf.nn.bias_add(x, b)\n",
    "    return tf.nn.relu(x)\n",
    "\n",
    "# Función de pooling\n",
    "def maxpool2d(x, k=2): # x->Input, k->KernelSize\n",
    "    return tf.nn.max_pool(x, ksize=[1, k, k, 1], strides=[1, k, k, 1], padding='SAME')"
   ]
  },
  {
   "cell_type": "raw",
   "metadata": {},
   "source": [
    "Posteriormente definimos la arquitectura de nuestra CNN. Para este experimento, dicha arquitectura contará con 4 capas de filtros convolucionales y 2 en relación a la arquitectura fully-conected"
   ]
  },
  {
   "cell_type": "code",
   "execution_count": 9,
   "metadata": {},
   "outputs": [
    {
     "name": "stdout",
     "output_type": "stream",
     "text": [
      "WARNING:tensorflow:\n",
      "The TensorFlow contrib module will not be included in TensorFlow 2.0.\n",
      "For more information, please see:\n",
      "  * https://github.com/tensorflow/community/blob/master/rfcs/20180907-contrib-sunset.md\n",
      "  * https://github.com/tensorflow/addons\n",
      "  * https://github.com/tensorflow/io (for I/O related ops)\n",
      "If you depend on functionality not listed there, please file an issue.\n",
      "\n",
      "Arquitectura definida correctamente\n"
     ]
    }
   ],
   "source": [
    "\n",
    "weights = {\n",
    "    'wc1': tf.get_variable('W0', shape=(3, 3, 1, 32), initializer=tf.contrib.layers.xavier_initializer() ),\n",
    "    'wc2': tf.get_variable('W1', shape=(3, 3, 32, 64), initializer=tf.contrib.layers.xavier_initializer() ),\n",
    "    'wc3': tf.get_variable('W2', shape=(3, 3, 64, 128), initializer=tf.contrib.layers.xavier_initializer() ),\n",
    "    'wc4': tf.get_variable('W3', shape=(3, 3, 128, 256), initializer=tf.contrib.layers.xavier_initializer() ),\n",
    "    'wd1': tf.get_variable('W4', shape=(7*7*256, 256), initializer=tf.contrib.layers.xavier_initializer() ), # Considerar que 14*14 representa la octava parte del tamaño en la imagen original\n",
    "    'out': tf.get_variable('W6', shape=(256, n_class), initializer=tf.contrib.layers.xavier_initializer() ),      \n",
    "}\n",
    "\n",
    "\n",
    "biases = {\n",
    "    'bc1': tf.get_variable('B0', shape=(32), initializer=tf.contrib.layers.xavier_initializer()),       \n",
    "    'bc2': tf.get_variable('B1', shape=(64), initializer=tf.contrib.layers.xavier_initializer()),\n",
    "    'bc3': tf.get_variable('B2', shape=(128), initializer=tf.contrib.layers.xavier_initializer()),\n",
    "    'bc4': tf.get_variable('B3', shape=(256), initializer=tf.contrib.layers.xavier_initializer()),\n",
    "    'bd1': tf.get_variable('B4', shape=(256), initializer=tf.contrib.layers.xavier_initializer()),\n",
    "    'out': tf.get_variable('B5', shape=(n_class), initializer=tf.contrib.layers.xavier_initializer()),\n",
    "}\n",
    "\n",
    "print('Arquitectura definida correctamente')\n"
   ]
  },
  {
   "cell_type": "raw",
   "metadata": {},
   "source": [
    "Después procedemos a definir una función maestra conv_net() que será la encargada de definir la ejecución para el entrenamiento de la CNN. Esta función determina las convoluciones, el max_pooling y los fully_conected_layers."
   ]
  },
  {
   "cell_type": "code",
   "execution_count": 10,
   "metadata": {},
   "outputs": [],
   "source": [
    "# Definiendo función de entrenamiento para la CNN\n",
    "def conv_net(x, weights, biases): \n",
    "    conv1 = conv2d(x, weights['wc1'], biases['bc1']) # Primera convolución\n",
    "    conv1 = maxpool2d(conv1, k=2) \n",
    "    \n",
    "    conv2 = conv2d(conv1, weights['wc2'], biases['bc2']) # Segunda convolución\n",
    "    conv2 = maxpool2d(conv2, k=2)\n",
    "    \n",
    "    conv3 = conv2d(conv2, weights['wc3'], biases['bc3']) # Tercera convolución\n",
    "    conv3 = maxpool2d(conv3, k=2)\n",
    "    \n",
    "    conv4 = conv2d(conv3, weights['wc4'], biases['bc4']) # Cuarta convolución\n",
    "    conv4 = maxpool2d(conv4, k=2)\n",
    "    \n",
    "    fc1 = tf.reshape(conv4, [-1, weights['wd1'].get_shape().as_list()[0] ]) # Fully connected layers\n",
    "    fc1 = tf.add(tf.matmul(fc1, weights['wd1']),  biases['bd1']) \n",
    "    fc1 = tf.nn.relu(fc1)\n",
    "\n",
    "    out = tf.add(tf.matmul(fc1, weights['out']), biases['out'])\n",
    "    return out"
   ]
  },
  {
   "cell_type": "markdown",
   "metadata": {},
   "source": [
    "# Entrenamiento"
   ]
  },
  {
   "cell_type": "raw",
   "metadata": {},
   "source": [
    "Considerando que nuestra versión de Tensorflow es 1.0 debemos tener en cuenta su funcionamiento a partir de una grafo de estados. Esto implica que ejecutar codigo en tensorflow requiere del uso de sesiones, en donde, dentro de la sesión, se define los datos participantes y las funciones que se ejecutarán. Estas últimas poseen un comportamiento muy peculiar, pues la naturaleza backtracking de Tensorflow hará que todas las funciones relacionadas a la función inicial se ejecutan de manera previa a esta."
   ]
  },
  {
   "cell_type": "code",
   "execution_count": 11,
   "metadata": {},
   "outputs": [
    {
     "name": "stdout",
     "output_type": "stream",
     "text": [
      "WARNING:tensorflow:From <ipython-input-11-66a3a66d081b>:3: softmax_cross_entropy_with_logits (from tensorflow.python.ops.nn_ops) is deprecated and will be removed in a future version.\n",
      "Instructions for updating:\n",
      "\n",
      "Future major versions of TensorFlow will allow gradients to flow\n",
      "into the labels input on backprop by default.\n",
      "\n",
      "See `tf.nn.softmax_cross_entropy_with_logits_v2`.\n",
      "\n"
     ]
    }
   ],
   "source": [
    "# Funciones para el entrenamiento\n",
    "pred = conv_net(x, weights, biases) \n",
    "cost = tf.reduce_mean(tf.nn.softmax_cross_entropy_with_logits(logits=pred, labels=y))\n",
    "optimizer = tf.train.AdamOptimizer(learning_rate=learning_rate).minimize(cost) # Función optimizer requiere de función cost y esta a su vez de pred.\n",
    "\n",
    "# Funciones para la prueba\n",
    "get_predict = tf.argmax(pred, 1)\n",
    "correct_prediction = tf.equal(tf.argmax(pred, 1), tf.argmax(y, 1)) #  Verificamos si el resultado coincide con el label de la imagen,\n",
    "accuracy = tf.reduce_mean(tf.cast(correct_prediction, tf.float32)) #  Calculando accuracy entre todas las imágenes y retornando un promedio de esos resultads."
   ]
  },
  {
   "cell_type": "raw",
   "metadata": {},
   "source": [
    "Ahora es necesario definir la función para inicializar las variables instanciadas en el diccionario de pesos y en el bias. Para esto solo es necesario llamar a la función tf.global_variables_initializer() la cuál iniciará las variables en torno a xavier_initializer() definido dentro del diccionario. (Otra opcion sería glorot_initializer())"
   ]
  },
  {
   "cell_type": "code",
   "execution_count": 12,
   "metadata": {},
   "outputs": [],
   "source": [
    "init = tf.global_variables_initializer() # Inicializando variables"
   ]
  },
  {
   "cell_type": "raw",
   "metadata": {},
   "source": [
    "Finalmente abrimos una sesión para tensorflow y procedemos a ejecutar todas las funciones definidas previamente."
   ]
  },
  {
   "cell_type": "code",
   "execution_count": 13,
   "metadata": {},
   "outputs": [
    {
     "name": "stdout",
     "output_type": "stream",
     "text": [
      "Iteraccion  0, Perdida = 1.061268, Accuracy: 0.30000\n",
      "Optmización Finalizada\n",
      "Iteraccion  1, Perdida = 0.000887, Accuracy: 1.00000\n",
      "Optmización Finalizada\n",
      "Iteraccion  2, Perdida = 0.000062, Accuracy: 1.00000\n",
      "Optmización Finalizada\n",
      "Iteraccion  3, Perdida = 0.003105, Accuracy: 1.00000\n",
      "Optmización Finalizada\n",
      "Iteraccion  4, Perdida = 0.001185, Accuracy: 1.00000\n",
      "Optmización Finalizada\n",
      "Iteraccion  5, Perdida = 0.000020, Accuracy: 1.00000\n",
      "Optmización Finalizada\n",
      "Iteraccion  6, Perdida = 0.000012, Accuracy: 1.00000\n",
      "Optmización Finalizada\n",
      "Iteraccion  7, Perdida = 0.000009, Accuracy: 1.00000\n",
      "Optmización Finalizada\n",
      "Iteraccion  8, Perdida = 0.000007, Accuracy: 1.00000\n",
      "Optmización Finalizada\n",
      "Iteraccion  9, Perdida = 0.000005, Accuracy: 1.00000\n",
      "Optmización Finalizada\n",
      "Iteraccion  10, Perdida = 0.000003, Accuracy: 1.00000\n",
      "Optmización Finalizada\n",
      "Iteraccion  11, Perdida = 0.000002, Accuracy: 1.00000\n",
      "Optmización Finalizada\n",
      "Iteraccion  12, Perdida = 0.000001, Accuracy: 1.00000\n",
      "Optmización Finalizada\n",
      "Iteraccion  13, Perdida = 0.000001, Accuracy: 1.00000\n",
      "Optmización Finalizada\n",
      "Iteraccion  14, Perdida = 0.000001, Accuracy: 1.00000\n",
      "Optmización Finalizada\n",
      "Iteraccion  15, Perdida = 0.000000, Accuracy: 1.00000\n",
      "Optmización Finalizada\n",
      "Iteraccion  16, Perdida = 0.000000, Accuracy: 1.00000\n",
      "Optmización Finalizada\n",
      "Iteraccion  17, Perdida = 0.000000, Accuracy: 1.00000\n",
      "Optmización Finalizada\n",
      "Iteraccion  18, Perdida = 0.000000, Accuracy: 1.00000\n",
      "Optmización Finalizada\n",
      "Iteraccion  19, Perdida = 0.000000, Accuracy: 1.00000\n",
      "Optmización Finalizada\n",
      "Iteraccion  20, Perdida = 0.000000, Accuracy: 1.00000\n",
      "Optmización Finalizada\n",
      "Iteraccion  21, Perdida = 0.000000, Accuracy: 1.00000\n",
      "Optmización Finalizada\n",
      "Iteraccion  22, Perdida = 0.000000, Accuracy: 1.00000\n",
      "Optmización Finalizada\n",
      "Iteraccion  23, Perdida = 0.000000, Accuracy: 1.00000\n",
      "Optmización Finalizada\n",
      "Iteraccion  24, Perdida = 0.000000, Accuracy: 1.00000\n",
      "Optmización Finalizada\n",
      "Iteraccion  25, Perdida = 0.000000, Accuracy: 1.00000\n",
      "Optmización Finalizada\n",
      "Iteraccion  26, Perdida = 0.000000, Accuracy: 1.00000\n",
      "Optmización Finalizada\n",
      "Iteraccion  27, Perdida = 0.000000, Accuracy: 1.00000\n",
      "Optmización Finalizada\n",
      "Iteraccion  28, Perdida = 0.000000, Accuracy: 1.00000\n",
      "Optmización Finalizada\n",
      "Iteraccion  29, Perdida = 0.000000, Accuracy: 1.00000\n",
      "Optmización Finalizada\n",
      "Calidad del Testing 1.00000\n"
     ]
    }
   ],
   "source": [
    "sess = tf.Session()\n",
    "\n",
    "sess.run(init) # Iniciamos las variables del diccionario\n",
    "train_loss = []\n",
    "test_loss = []\n",
    "train_accuracy = []\n",
    "test_accuracy = [] \n",
    "\n",
    "summary_writer = tf.summary.FileWriter('./Output', sess.graph)\n",
    "#for i in range(training_iter):\n",
    "for i in range(30):\n",
    "    for batch in range(len(train_x) // batch_size): # Dividimos el grupo de entrenamiento en lotes para no estresar la memoria\n",
    "        batch_x = train_x[batch*batch_size:min((batch+1)*batch_size, len(train_x))]\n",
    "        batch_y = train_y[batch*batch_size:min((batch+1)*batch_size, len(train_y))]\n",
    "        # Ejecutando optimizacion op calculando perdida y accuracy en lote\n",
    "        opt = sess.run(optimizer, feed_dict={x: batch_x, y: batch_y }) \n",
    "        loss, acc = sess.run([cost, accuracy], feed_dict={x: batch_x, y: batch_y})\n",
    "        \n",
    "    print(\"Iteraccion \", str(i) + \", Perdida = \" + \"{:.6f}\".format(loss) + \", Accuracy: \" + \"{:.5f}\".format(acc))\n",
    "    print(\"Optmización Finalizada\")\n",
    "\n",
    "        \n",
    "#Calculamos el accuracy de las imagenes en el dataset\n",
    "test_acc, valid_loss = sess.run([accuracy, cost], feed_dict={x: test_x, y: test_y})\n",
    "train_loss.append(loss)\n",
    "test_loss.append(valid_loss)\n",
    "train_accuracy.append(acc)\n",
    "test_accuracy.append(test_acc)\n",
    "print(\"Calidad del Testing\", \"{:.5f}\".format(test_acc))\n",
    "\n",
    "summary_writer.close()    \n",
    "    "
   ]
  },
  {
   "cell_type": "code",
   "execution_count": 42,
   "metadata": {},
   "outputs": [
    {
     "name": "stdout",
     "output_type": "stream",
     "text": [
      "Prediccion obtenida:  4\n"
     ]
    },
    {
     "data": {
      "text/plain": [
       "Text(0.5, 1.0, '(Original: Harry - Predicho: Harry)')"
      ]
     },
     "execution_count": 42,
     "metadata": {},
     "output_type": "execute_result"
    },
    {
     "data": {
      "image/png": "[encoded data removed]",
      "text/plain": [
       "<Figure size 504x504 with 1 Axes>"
      ]
     },
     "metadata": {
      "needs_background": "light"
     },
     "output_type": "display_data"
    }
   ],
   "source": [
    "random_evaluation = randint(0, train_x.shape[0]-1)\n",
    "validation_x = train_x[random_evaluation:random_evaluation+1]\n",
    "validation_y = train_y[random_evaluation:random_evaluation+1]\n",
    "\n",
    "#random_evaluation = randint(0, evaluation_x.shape[0]-1)\n",
    "#validation_x = evaluation_x[random_evaluation:random_evaluation+1]\n",
    "#validation_y = evaluation_y[random_evaluation:random_evaluation+1]\n",
    "\n",
    "\n",
    "#Prediciendo posible resultado\n",
    "get_prediction = sess.run(get_predict, feed_dict={x: validation_x, y:validation_y})\n",
    "print(\"Prediccion obtenida: \", get_prediction[0])\n",
    "\n",
    "#Mostrando la primera imagen en el conjunto de entrenamiento\n",
    "plt.figure(figsize=[7, 7])\n",
    "plt.subplot(121)\n",
    "curr_img = np.reshape(validation_x[0], (104, 104))\n",
    "curr_original = np.argmax(validation_y[0])\n",
    "curr_lbl = get_prediction[0]\n",
    "\n",
    "plt.imshow(curr_img, cmap='gray')\n",
    "plt.title( \"(Original: \" +  str(label_dict[curr_original]) + \" - Predicho: \" + str(label_dict[curr_lbl]) + \")\" )  \n"
   ]
  },
  {
   "cell_type": "code",
   "execution_count": null,
   "metadata": {},
   "outputs": [],
   "source": []
  },
  {
   "cell_type": "code",
   "execution_count": null,
   "metadata": {},
   "outputs": [],
   "source": []
  }
 ],
 "metadata": {
  "kernelspec": {
   "display_name": "Python 3",
   "language": "python",
   "name": "python3"
  },
  "language_info": {
   "codemirror_mode": {
    "name": "ipython",
    "version": 3
   },
   "file_extension": ".py",
   "mimetype": "text/x-python",
   "name": "python",
   "nbconvert_exporter": "python",
   "pygments_lexer": "ipython3",
   "version": "3.7.5"
  }
 },
 "nbformat": 4,
 "nbformat_minor": 2
}
